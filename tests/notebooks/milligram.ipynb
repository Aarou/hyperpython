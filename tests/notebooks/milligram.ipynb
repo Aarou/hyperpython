{
 "cells": [
  {
   "cell_type": "code",
   "execution_count": 8,
   "metadata": {},
   "outputs": [
    {
     "name": "stdout",
     "output_type": "stream",
     "text": [
      "The autoreload extension is already loaded. To reload it, use:\n",
      "  %reload_ext autoreload\n"
     ]
    }
   ],
   "source": [
    "%load_ext autoreload\n",
    "%autoreload 1\n",
    "from hyperpython import *\n",
    "import hyperpython as hp\n",
    "%aimport hyperpython.contrib.semantic.button\n",
    "ui = hyperpython.contrib.semantic"
   ]
  },
  {
   "cell_type": "code",
   "execution_count": 9,
   "metadata": {},
   "outputs": [
    {
     "data": {
      "text/html": [
       "<script src=\"//cdnjs.cloudflare.com/ajax/libs/semantic-ui/2.4.1/semantic.js\"></script><link rel=\"stylesheet\" href=\"//cdnjs.cloudflare.com/ajax/libs/semantic-ui/2.4.1/semantic.css\"></link><link rel=\"stylesheet\" href=\"//cdnjs.cloudflare.com/ajax/libs/semantic-ui/2.4.1/components/menu.min.css\"></link><link rel=\"stylesheet\" href=\"//cdnjs.cloudflare.com/ajax/libs/semantic-ui/2.4.1/components/input.min.css\"></link><link rel=\"stylesheet\" href=\"//cdnjs.cloudflare.com/ajax/libs/semantic-ui/2.4.1/components/feed.min.css\"></link><link rel=\"stylesheet\" href=\"//cdnjs.cloudflare.com/ajax/libs/semantic-ui/2.4.1/components/breadcrumb.min.css\"></link><script src=\"//cdnjs.cloudflare.com/ajax/libs/semantic-ui/2.4.1/components/transition.min.js\"></script><link rel=\"stylesheet\" href=\"//cdnjs.cloudflare.com/ajax/libs/semantic-ui/2.4.1/components/transition.min.css\"></link><link rel=\"stylesheet\" href=\"//cdnjs.cloudflare.com/ajax/libs/semantic-ui/2.4.1/components/header.min.css\"></link><script src=\"//cdnjs.cloudflare.com/ajax/libs/semantic-ui/2.4.1/components/reset.min.js\"></script><link rel=\"stylesheet\" href=\"//cdnjs.cloudflare.com/ajax/libs/semantic-ui/2.4.1/components/reset.min.css\"></link><link rel=\"stylesheet\" href=\"//cdnjs.cloudflare.com/ajax/libs/semantic-ui/2.4.1/components/step.min.css\"></link><script src=\"//cdnjs.cloudflare.com/ajax/libs/semantic-ui/2.4.1/components/dimmer.min.js\"></script><link rel=\"stylesheet\" href=\"//cdnjs.cloudflare.com/ajax/libs/semantic-ui/2.4.1/components/dimmer.min.css\"></link><link rel=\"stylesheet\" href=\"//cdnjs.cloudflare.com/ajax/libs/semantic-ui/2.4.1/components/placeholder.min.css\"></link><script src=\"//cdnjs.cloudflare.com/ajax/libs/semantic-ui/2.4.1/components/tab.min.js\"></script><link rel=\"stylesheet\" href=\"//cdnjs.cloudflare.com/ajax/libs/semantic-ui/2.4.1/components/tab.min.css\"></link><link rel=\"stylesheet\" href=\"//cdnjs.cloudflare.com/ajax/libs/semantic-ui/2.4.1/components/statistic.min.css\"></link><link rel=\"stylesheet\" href=\"//cdnjs.cloudflare.com/ajax/libs/semantic-ui/2.4.1/components/item.min.css\"></link><script src=\"//cdnjs.cloudflare.com/ajax/libs/semantic-ui/2.4.1/components/segment.min.js\"></script><link rel=\"stylesheet\" href=\"//cdnjs.cloudflare.com/ajax/libs/semantic-ui/2.4.1/components/segment.min.css\"></link><link rel=\"stylesheet\" href=\"//cdnjs.cloudflare.com/ajax/libs/semantic-ui/2.4.1/components/flag.min.css\"></link><script src=\"//cdnjs.cloudflare.com/ajax/libs/semantic-ui/2.4.1/components/search.min.js\"></script><link rel=\"stylesheet\" href=\"//cdnjs.cloudflare.com/ajax/libs/semantic-ui/2.4.1/components/search.min.css\"></link><script src=\"//cdnjs.cloudflare.com/ajax/libs/semantic-ui/2.4.1/components/embed.min.js\"></script><link rel=\"stylesheet\" href=\"//cdnjs.cloudflare.com/ajax/libs/semantic-ui/2.4.1/components/embed.min.css\"></link><script src=\"//cdnjs.cloudflare.com/ajax/libs/semantic-ui/2.4.1/components/nag.min.js\"></script><link rel=\"stylesheet\" href=\"//cdnjs.cloudflare.com/ajax/libs/semantic-ui/2.4.1/components/nag.min.css\"></link><script src=\"//cdnjs.cloudflare.com/ajax/libs/semantic-ui/2.4.1/components/popup.min.js\"></script><link rel=\"stylesheet\" href=\"//cdnjs.cloudflare.com/ajax/libs/semantic-ui/2.4.1/components/popup.min.css\"></link><link rel=\"stylesheet\" href=\"//cdnjs.cloudflare.com/ajax/libs/semantic-ui/2.4.1/components/label.min.css\"></link><script src=\"//cdnjs.cloudflare.com/ajax/libs/semantic-ui/2.4.1/components/api.min.js\"></script><link rel=\"stylesheet\" href=\"//cdnjs.cloudflare.com/ajax/libs/semantic-ui/2.4.1/components/table.min.css\"></link><script src=\"//cdnjs.cloudflare.com/ajax/libs/semantic-ui/2.4.1/components/site.min.js\"></script><link rel=\"stylesheet\" href=\"//cdnjs.cloudflare.com/ajax/libs/semantic-ui/2.4.1/components/site.min.css\"></link><link rel=\"stylesheet\" href=\"//cdnjs.cloudflare.com/ajax/libs/semantic-ui/2.4.1/components/container.min.css\"></link><link rel=\"stylesheet\" href=\"//cdnjs.cloudflare.com/ajax/libs/semantic-ui/2.4.1/components/comment.min.css\"></link><script src=\"//cdnjs.cloudflare.com/ajax/libs/semantic-ui/2.4.1/components/dropdown.min.js\"></script><link rel=\"stylesheet\" href=\"//cdnjs.cloudflare.com/ajax/libs/semantic-ui/2.4.1/components/dropdown.min.css\"></link><script src=\"//cdnjs.cloudflare.com/ajax/libs/semantic-ui/2.4.1/components/visibility.min.js\"></script><link rel=\"stylesheet\" href=\"//cdnjs.cloudflare.com/ajax/libs/semantic-ui/2.4.1/components/ad.min.css\"></link><script src=\"//cdnjs.cloudflare.com/ajax/libs/semantic-ui/2.4.1/components/sidebar.min.js\"></script><link rel=\"stylesheet\" href=\"//cdnjs.cloudflare.com/ajax/libs/semantic-ui/2.4.1/components/sidebar.min.css\"></link><link rel=\"stylesheet\" href=\"//cdnjs.cloudflare.com/ajax/libs/semantic-ui/2.4.1/components/rail.min.css\"></link><script src=\"//cdnjs.cloudflare.com/ajax/libs/semantic-ui/2.4.1/components/sticky.min.js\"></script><link rel=\"stylesheet\" href=\"//cdnjs.cloudflare.com/ajax/libs/semantic-ui/2.4.1/components/sticky.min.css\"></link><link rel=\"stylesheet\" href=\"//cdnjs.cloudflare.com/ajax/libs/semantic-ui/2.4.1/components/divider.min.css\"></link><script src=\"//cdnjs.cloudflare.com/ajax/libs/semantic-ui/2.4.1/components/rating.min.js\"></script><link rel=\"stylesheet\" href=\"//cdnjs.cloudflare.com/ajax/libs/semantic-ui/2.4.1/components/rating.min.css\"></link><script src=\"//cdnjs.cloudflare.com/ajax/libs/semantic-ui/2.4.1/components/progress.min.js\"></script><link rel=\"stylesheet\" href=\"//cdnjs.cloudflare.com/ajax/libs/semantic-ui/2.4.1/components/progress.min.css\"></link><link rel=\"stylesheet\" href=\"//cdnjs.cloudflare.com/ajax/libs/semantic-ui/2.4.1/components/grid.min.css\"></link><script src=\"//cdnjs.cloudflare.com/ajax/libs/semantic-ui/2.4.1/components/video.min.js\"></script><link rel=\"stylesheet\" href=\"//cdnjs.cloudflare.com/ajax/libs/semantic-ui/2.4.1/components/video.min.css\"></link><link rel=\"stylesheet\" href=\"//cdnjs.cloudflare.com/ajax/libs/semantic-ui/2.4.1/components/list.min.css\"></link><script src=\"//cdnjs.cloudflare.com/ajax/libs/semantic-ui/2.4.1/components/modal.min.js\"></script><link rel=\"stylesheet\" href=\"//cdnjs.cloudflare.com/ajax/libs/semantic-ui/2.4.1/components/modal.min.css\"></link><script src=\"//cdnjs.cloudflare.com/ajax/libs/semantic-ui/2.4.1/components/form.min.js\"></script><link rel=\"stylesheet\" href=\"//cdnjs.cloudflare.com/ajax/libs/semantic-ui/2.4.1/components/form.min.css\"></link><link rel=\"stylesheet\" href=\"//cdnjs.cloudflare.com/ajax/libs/semantic-ui/2.4.1/components/loader.min.css\"></link><script src=\"//cdnjs.cloudflare.com/ajax/libs/semantic-ui/2.4.1/components/checkbox.min.js\"></script><link rel=\"stylesheet\" href=\"//cdnjs.cloudflare.com/ajax/libs/semantic-ui/2.4.1/components/checkbox.min.css\"></link><script src=\"//cdnjs.cloudflare.com/ajax/libs/semantic-ui/2.4.1/components/accordion.min.js\"></script><link rel=\"stylesheet\" href=\"//cdnjs.cloudflare.com/ajax/libs/semantic-ui/2.4.1/components/accordion.min.css\"></link><link rel=\"stylesheet\" href=\"//cdnjs.cloudflare.com/ajax/libs/semantic-ui/2.4.1/components/card.min.css\"></link><link rel=\"stylesheet\" href=\"//cdnjs.cloudflare.com/ajax/libs/semantic-ui/2.4.1/components/image.min.css\"></link><link rel=\"stylesheet\" href=\"//cdnjs.cloudflare.com/ajax/libs/semantic-ui/2.4.1/components/message.min.css\"></link><link rel=\"stylesheet\" href=\"//cdnjs.cloudflare.com/ajax/libs/semantic-ui/2.4.1/components/button.min.css\"></link><link rel=\"stylesheet\" href=\"//cdnjs.cloudflare.com/ajax/libs/semantic-ui/2.4.1/components/icon.min.css\"></link><script src=\"//cdnjs.cloudflare.com/ajax/libs/semantic-ui/2.4.1/components/shape.min.js\"></script><link rel=\"stylesheet\" href=\"//cdnjs.cloudflare.com/ajax/libs/semantic-ui/2.4.1/components/shape.min.css\"></link>"
      ],
      "text/plain": [
       "<hyperpython.core.Block at 0x7f6c8c23bef0>"
      ]
     },
     "execution_count": 9,
     "metadata": {},
     "output_type": "execute_result"
    }
   ],
   "source": [
    "ui.cdn()"
   ]
  },
  {
   "cell_type": "code",
   "execution_count": 17,
   "metadata": {},
   "outputs": [
    {
     "data": {
      "text/html": [
       "<button class=\"ui fade animated button\"><div class=\"visible content\">Foo</div><div class=\"hidden content\"><i class=\"shop icon\"></i></div></button>"
      ],
      "text/plain": [
       "h('button', {'class': ['ui', 'fade', 'animated', 'button']}, [h('div', {'class': ['visible', 'content']}, 'Foo'), h('div', {'class': ['hidden', 'content']}, [h('i', {'class': ['shop', 'icon']})])])"
      ]
     },
     "execution_count": 17,
     "metadata": {},
     "output_type": "execute_result"
    }
   ],
   "source": [
    "ui.animated_button('foo', p('bar'), href='#')\n",
    "hp.button(class_='ui fade animated button')[\n",
    "    hp.div(class_='visible content')['Foo'],\n",
    "    hp.div(class_='hidden content')[hp.i(class_='shop icon')],\n",
    "]"
   ]
  },
  {
   "cell_type": "code",
   "execution_count": 11,
   "metadata": {},
   "outputs": [
    {
     "ename": "NameError",
     "evalue": "name 'container' is not defined",
     "output_type": "error",
     "traceback": [
      "\u001b[0;31m---------------------------------------------------------------------------\u001b[0m",
      "\u001b[0;31mNameError\u001b[0m                                 Traceback (most recent call last)",
      "\u001b[0;32m<ipython-input-11-9561d73d6a1c>\u001b[0m in \u001b[0;36m<module>\u001b[0;34m()\u001b[0m\n\u001b[0;32m----> 1\u001b[0;31m container(\n\u001b[0m\u001b[1;32m      2\u001b[0m     row(\n\u001b[1;32m      3\u001b[0m         \u001b[0mcolumn\u001b[0m\u001b[0;34m(\u001b[0m\u001b[0;34m\"foo\"\u001b[0m\u001b[0;34m,\u001b[0m \u001b[0mstyle\u001b[0m\u001b[0;34m=\u001b[0m\u001b[0;34m'background: cyan'\u001b[0m\u001b[0;34m)\u001b[0m\u001b[0;34m,\u001b[0m\u001b[0;34m\u001b[0m\u001b[0m\n\u001b[1;32m      4\u001b[0m         \u001b[0;34m...\u001b[0m\u001b[0;34m,\u001b[0m\u001b[0;34m\u001b[0m\u001b[0m\n\u001b[1;32m      5\u001b[0m         \u001b[0mcolumn\u001b[0m\u001b[0;34m(\u001b[0m\u001b[0mh1\u001b[0m\u001b[0;34m(\u001b[0m\u001b[0;34m[\u001b[0m\u001b[0;34m'title'\u001b[0m\u001b[0;34m,\u001b[0m \u001b[0msmall\u001b[0m\u001b[0;34m(\u001b[0m\u001b[0;34m'blah'\u001b[0m\u001b[0;34m)\u001b[0m\u001b[0;34m]\u001b[0m\u001b[0;34m)\u001b[0m\u001b[0;34m,\u001b[0m \u001b[0mstyle\u001b[0m\u001b[0;34m=\u001b[0m\u001b[0;34m'background: blue'\u001b[0m\u001b[0;34m)\u001b[0m\u001b[0;34m,\u001b[0m\u001b[0;34m\u001b[0m\u001b[0m\n",
      "\u001b[0;31mNameError\u001b[0m: name 'container' is not defined"
     ]
    }
   ],
   "source": [
    "container(\n",
    "    row(\n",
    "        column(\"foo\", style='background: cyan'),\n",
    "        ...,\n",
    "        column(h1(['title', small('blah')]), style='background: blue'),\n",
    "        column(button('baz', class_='button-black'), style='background: red'),\n",
    "        column(button('baz', class_='button-black'), size=12),\n",
    "    )\n",
    ")\n"
   ]
  },
  {
   "cell_type": "code",
   "execution_count": null,
   "metadata": {},
   "outputs": [],
   "source": []
  },
  {
   "cell_type": "code",
   "execution_count": null,
   "metadata": {},
   "outputs": [],
   "source": []
  }
 ],
 "metadata": {
  "kernelspec": {
   "display_name": "Python 3",
   "language": "python",
   "name": "python3"
  },
  "language_info": {
   "codemirror_mode": {
    "name": "ipython",
    "version": 3
   },
   "file_extension": ".py",
   "mimetype": "text/x-python",
   "name": "python",
   "nbconvert_exporter": "python",
   "pygments_lexer": "ipython3",
   "version": "3.7.0"
  }
 },
 "nbformat": 4,
 "nbformat_minor": 2
}
